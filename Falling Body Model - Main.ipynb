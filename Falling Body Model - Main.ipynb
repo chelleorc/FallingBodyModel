{
 "cells": [
  {
   "cell_type": "code",
   "execution_count": null,
   "metadata": {},
   "outputs": [],
   "source": [
    "#This is a falling body modeling project that takes air resistance \n",
    "#into account\n",
    "\n",
    "#This is the main program that will call the \n",
    "#functions needed to model a falling ball"
   ]
  },
  {
   "cell_type": "code",
   "execution_count": 26,
   "metadata": {},
   "outputs": [],
   "source": [
    "#Function that calls the list of Python libraries\n",
    "import numpy as np\n",
    "from scipy.integrate import odeint\n",
    "import matplotlib.pyplot as plt\n",
    "from matplotlib.animation import FuncAnimation as ani\n",
    "import pandas as pd\n",
    "import seaborn as seb"
   ]
  },
  {
   "cell_type": "code",
   "execution_count": 24,
   "metadata": {},
   "outputs": [],
   "source": [
    "#Function that calls the input numbers into the variables \n",
    "# of the falling body differential equation\n",
    "#dv/dt + (k/m)v = g\n",
    "def model(v,t):\n",
    "    k = 0.5\n",
    "    g = 9.8\n",
    "    m = 20\n",
    "    dvdt = g - (k/m)*v\n",
    "    return dvdt\n",
    "\n",
    "#initial condition\n",
    "v0 = 0\n",
    "\n",
    "#time points\n",
    "time = np.linspace(0,200)\n",
    "\n",
    "#solve ODE\n",
    "velocity = odeint(model,v0,t)\n"
   ]
  },
  {
   "cell_type": "code",
   "execution_count": 20,
   "metadata": {},
   "outputs": [
    {
     "data": {
      "image/png": "[encoded data removed]",
      "text/plain": [
       "<Figure size 432x288 with 1 Axes>"
      ]
     },
     "metadata": {
      "needs_background": "light"
     },
     "output_type": "display_data"
    }
   ],
   "source": [
    "#Function that calls the graph to plot the falling body\n",
    "plt.plot(t,v)\n",
    "plt.xlabel(\"time\")\n",
    "plt.ylabel(\"v(t)\")\n",
    "plt.show()"
   ]
  },
  {
   "cell_type": "code",
   "execution_count": 25,
   "metadata": {},
   "outputs": [
    {
     "name": "stdout",
     "output_type": "stream",
     "text": [
      "[  0.           4.08163265   8.16326531  12.24489796  16.32653061\n",
      "  20.40816327  24.48979592  28.57142857  32.65306122  36.73469388\n",
      "  40.81632653  44.89795918  48.97959184  53.06122449  57.14285714\n",
      "  61.2244898   65.30612245  69.3877551   73.46938776  77.55102041\n",
      "  81.63265306  85.71428571  89.79591837  93.87755102  97.95918367\n",
      " 102.04081633 106.12244898 110.20408163 114.28571429 118.36734694\n",
      " 122.44897959 126.53061224 130.6122449  134.69387755 138.7755102\n",
      " 142.85714286 146.93877551 151.02040816 155.10204082 159.18367347\n",
      " 163.26530612 167.34693878 171.42857143 175.51020408 179.59183673\n",
      " 183.67346939 187.75510204 191.83673469 195.91836735 200.        ]\n",
      "[[  0.        ]\n",
      " [ 38.02686392]\n",
      " [ 72.3648442 ]\n",
      " [103.37178963]\n",
      " [131.37083476]\n",
      " [156.65376796]\n",
      " [179.48407222]\n",
      " [200.09966984]\n",
      " [218.71540359]\n",
      " [235.52527522]\n",
      " [250.70446667]\n",
      " [264.41116565]\n",
      " [276.78821471]\n",
      " [287.96459958]\n",
      " [298.05679346]\n",
      " [307.16997048]\n",
      " [315.39910274]\n",
      " [322.82994893]\n",
      " [329.5399491 ]\n",
      " [335.59903001]\n",
      " [341.07033597]\n",
      " [346.01088529]\n",
      " [350.47216516]\n",
      " [354.50066847]\n",
      " [358.13837738]\n",
      " [361.42320205]\n",
      " [364.38937475]\n",
      " [367.06780696]\n",
      " [369.48641162]\n",
      " [371.67039342]\n",
      " [373.6425137 ]\n",
      " [375.4233237 ]\n",
      " [377.03138241]\n",
      " [378.48344735]\n",
      " [379.79465165]\n",
      " [380.97865935]\n",
      " [382.04780993]\n",
      " [383.01324496]\n",
      " [383.8850258 ]\n",
      " [384.6722374 ]\n",
      " [385.38308388]\n",
      " [386.024973  ]\n",
      " [386.60459425]\n",
      " [387.12798795]\n",
      " [387.60060866]\n",
      " [388.02738169]\n",
      " [388.41275467]\n",
      " [388.76074364]\n",
      " [389.07497514]\n",
      " [389.35872388]]\n"
     ]
    }
   ],
   "source": [
    "#Function that calls the dynamic plot to demonstrate the falling body\n",
    "# Use this site to plot animation: https://towardsdatascience.com/intro-to-dynamic-visualization-with-python-animations-and-interactive-plots-f72a7fb69245 \n",
    "\n",
    "# Change matplotlib backend\n",
    "%matplotlib notebook\n",
    "title = 'Falling Body'\n",
    "t = np.array(time)\n",
    "v = np.array(velocity)\n",
    "fallingBody = pd.DataFrame(t,v)\n",
    "#TN,VN = augment(t,v,10)\n",
    "#augmented = pd.DataFrame(TN,VN)\n",
    "\n",
    "#Initialize writer\n",
    "Writer = ani.writers['ffmpeg']\n",
    "writer = Writer(fps=20, metadata=dict(artist='Me'), bitrate=1800)\n",
    "\n",
    "#Label and set limits for animation\n",
    "fig = plt.figure(figsize=(10,6))\n",
    "plt.tlim(0, 200)\n",
    "plt.tlabel('Time', fontsize=20)\n",
    "\n",
    "plt.vlim(np.min())\n"
   ]
  },
  {
   "cell_type": "code",
   "execution_count": null,
   "metadata": {},
   "outputs": [],
   "source": [
    "#Function that calls the animation that demonstrates the falling body "
   ]
  }
 ],
 "metadata": {
  "kernelspec": {
   "display_name": "Python 3",
   "language": "python",
   "name": "python3"
  },
  "language_info": {
   "codemirror_mode": {
    "name": "ipython",
    "version": 3
   },
   "file_extension": ".py",
   "mimetype": "text/x-python",
   "name": "python",
   "nbconvert_exporter": "python",
   "pygments_lexer": "ipython3",
   "version": "3.7.4"
  }
 },
 "nbformat": 4,
 "nbformat_minor": 2
}
